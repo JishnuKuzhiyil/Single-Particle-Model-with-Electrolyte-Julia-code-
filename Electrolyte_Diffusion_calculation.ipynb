{
 "cells": [
  {
   "cell_type": "markdown",
   "metadata": {},
   "source": [
    "This code features finite volume implimentation of electrolyte diffusion of lithium. This notebook details FVM calculations and its Julia implimentation. The notebook helps generate gradient,divergence, mean calculation matrices to be incorporated into any electrochemical model. The notebook also features a simple example of how to use tthese matrices to solve for concentration profile  and effect of mesh size on the solution.\n",
    "\n",
    "The code is implimented by Jishnu Ayyangatu Kuzhiyil. At the time of writing the code, Jishnu is a PhD student at the University of Warwick."
   ]
  },
  {
   "cell_type": "code",
   "execution_count": 127,
   "metadata": {},
   "outputs": [
    {
     "data": {
      "text/plain": [
       "0.2594"
      ]
     },
     "metadata": {},
     "output_type": "display_data"
    }
   ],
   "source": [
    "# Getting into implimentation, I will be using the Julia programming language. I will be using the following packages:\n",
    "\n",
    "using LinearAlgebra,DifferentialEquations,Plots,SparseArrays,BenchmarkTools,PreallocationTools\n",
    "\n",
    "#Chen2020 parameters\n",
    "Ln=85.2*1e-6  #thickness of negative elctrode\n",
    "Ls=12 *1e-6   #thickness of separator\n",
    "Lp=75.6*1e-6  #thickness of positive electrode\n",
    "\n",
    "Nn=15 #number of FVM CVs in negative electrode\n",
    "Ns=6 #number of FVM CVs in separator\n",
    "Np=15 #number of FVM CVs in positive electrode\n",
    "\n",
    "I=5 #current in A\n",
    "F=96485 #Faraday's constant\n",
    "A=0.1 #area of electrode in m^2\n",
    "t⁺=0.2594 #transference number "
   ]
  },
  {
   "cell_type": "markdown",
   "metadata": {},
   "source": [
    "Lets calculate the gradient of electrolyte concentration at interface between control volumes. The gradient can be calculated as right value minus left value divided by the distance between the two control volumes. "
   ]
  },
  {
   "cell_type": "code",
   "execution_count": 128,
   "metadata": {},
   "outputs": [
    {
     "data": {
      "text/plain": [
       "(sparse([1, 1, 2, 2, 3, 3, 4, 4, 5, 5  …  31, 31, 32, 32, 33, 33, 34, 34, 35, 35], [1, 2, 2, 3, 3, 4, 4, 5, 5, 6  …  31, 32, 32, 33, 33, 34, 34, 35, 35, 36], [-176056.33802816903, 176056.33802816903, -176056.33802816903, 176056.33802816903, -176056.33802816903, 176056.33802816903, -176056.33802816903, 176056.33802816903, -176056.33802816903, 176056.33802816903  …  -198412.6984126984, 198412.6984126984, -198412.6984126984, 198412.6984126984, -198412.6984126984, 198412.6984126984, -198412.6984126984, 198412.6984126984, -198412.6984126984, 198412.6984126984], 35, 36), sparse([1, 2, 2, 3, 3, 4, 4, 5, 5, 6  …  31, 32, 32, 33, 33, 34, 34, 35, 35, 36], [1, 1, 2, 2, 3, 3, 4, 4, 5, 5  …  31, 31, 32, 32, 33, 33, 34, 34, 35, 35], [176056.33802816903, -176056.33802816903, 176056.33802816903, -176056.33802816903, 176056.33802816903, -176056.33802816903, 176056.33802816903, -176056.33802816903, 176056.33802816903, -176056.33802816903  …  198412.6984126984, -198412.6984126984, 198412.6984126984, -198412.6984126984, 198412.6984126984, -198412.6984126984, 198412.6984126984, -198412.6984126984, 198412.6984126984, -198412.6984126984], 36, 35), sparse([1, 1, 2, 2, 3, 3, 4, 4, 5, 5  …  31, 31, 32, 32, 33, 33, 34, 34, 35, 35], [1, 2, 2, 3, 3, 4, 4, 5, 5, 6  …  31, 32, 32, 33, 33, 34, 34, 35, 35, 36], [0.5, 0.5, 0.5, 0.5, 0.5, 0.5, 0.5, 0.5, 0.5, 0.5  …  0.5, 0.5, 0.5, 0.5, 0.5, 0.5, 0.5, 0.5, 0.5, 0.5], 35, 36), [0.9009160245541584, 0.9009160245541584, 0.9009160245541584, 0.9009160245541584, 0.9009160245541584, 0.9009160245541584, 0.9009160245541584, 0.9009160245541584, 0.9009160245541584, 0.9009160245541584  …  -1.0153180594181785, -1.0153180594181785, -1.0153180594181785, -1.0153180594181785, -1.0153180594181785, -1.0153180594181785, -1.0153180594181785, -1.0153180594181785, -1.0153180594181785, -1.0153180594181785])"
      ]
     },
     "metadata": {},
     "output_type": "display_data"
    }
   ],
   "source": [
    "\n",
    "function electrolyte_matrices(Nn,Ns,Np,Ln,Ls,Lp; save_matrices=false)\n",
    "   \n",
    "   \"\"\" # This function will return the matrices required for solving the electrolyte concentration equation. The matrices are:\n",
    "    # 1. Gradient matrix\n",
    "    # 2. Divergence matrix\n",
    "    # 3. Mean matrix\n",
    "    # 4. Source term vector\n",
    "    \n",
    "    # The gradient matrix is a Nx(N-1) matrix, where N is the total number of CVs. The gradient matrix is used to calculate the gradient of the electrolyte concentration at the interfaces of the CVs.\n",
    "    # The divergence matrix is a Nx(N-1) matrix, where N is the total number of CVs. The divergence matrix is used to calculate the divergence of the electrolyte flux at the interfaces of the CVs.\n",
    "    # The mean matrix is a NxN matrix, where N is the total number of CVs. The mean matrix is used to calculate the average of the electrolyte concentration at the interfaces of the CVs.\n",
    "    # The source term vector is a Nx1 vector, where N is the total number of CVs. The source term vector is used to calculate the source term in the electrolyte concentration equation.\n",
    "    \n",
    "    # The inputs to the function are:\n",
    "    # 1. Nn: Number of CVs in the negative electrode\n",
    "    # 2. Ns: Number of CVs in the separator\n",
    "    # 3. Np: Number of CVs in the positive electrode\n",
    "    # 4. Ln: Thickness of negative electrode\n",
    "    # 5. Ls: Thickness of separator\n",
    "    # 6. Lp: Thickness of positive electrode\n",
    "    \n",
    "    # The outputs of the function are:\n",
    "    # 1. grad_interface_electrolyte: Gradient matrix\n",
    "    # 2. div_interface_electrolyte: Divergence matrix\n",
    "    # 3. mean_interface_electrolyte: Mean matrix\n",
    "    # 4. source: Source term vector\n",
    "    \n",
    "    # The function is called as follows:\n",
    "    # grad_interface_electrolyte,div_interface_electrolyte,mean_interface_electrolyte,source = electrolyte_matrices(Nn,Ns,Np,Ln,Ls,Lp)\"\"\"\n",
    "    \n",
    "    # First we will calculate the length of each CV\n",
    "    N=Nn+Ns+Np\n",
    "    Δx_n = Ln/Nn\n",
    "    Δx_s = Ls/Ns\n",
    "    Δx_p = Lp/Np\n",
    "\n",
    "    Δx_ns = (Δx_n + Δx_s)/2\n",
    "    Δx_sp= (Δx_s + Δx_p)/2\n",
    "\n",
    "    # To impliment gradient calculation as a matrix multiplication, we need to define the following matrices\n",
    "\n",
    "    e_vec=[1/Δx_n.*ones(Nn-1); 1/Δx_ns; 1/Δx_s.*ones(Ns-1); 1/Δx_sp; 1/Δx_p.*ones(Np-1)]\n",
    "    grad_interface_electrolyte = spdiagm(N-1,N,0=>-e_vec,1=>e_vec)\n",
    "    # The grad electrolyte matrix is a sparse matrix, when multiplied by the electrolyte concentration vector, it will return the gradient of the electrolyte concentration vector\n",
    "    # at all the interfaces between the CVs. The gradient of the electrolyte concentration at both boundaries are zero based on no flux at boundary.\n",
    "\n",
    "\n",
    "    #Now lets calculate a matrix which multiplied with a parameter at centre of CVs will return the average of the parameter at the interfaces of the CVs\n",
    "    left_weight_ns = Δx_n/(Δx_n+Δx_s)\n",
    "    right_weight_ns = Δx_s/(Δx_n+Δx_s)\n",
    "\n",
    "    left_weight_sp = Δx_s/(Δx_s+Δx_p)\n",
    "    right_weight_sp = Δx_p/(Δx_s+Δx_p)\n",
    "\n",
    "    left_weight=[0.5*ones(Nn-1);left_weight_ns;0.5*ones(Ns-1);left_weight_sp;0.5*ones(Np-1)]\n",
    "    right_weight=[0.5*ones(Nn-1);right_weight_ns;0.5*ones(Ns-1);right_weight_sp;0.5*ones(Np-1)]\n",
    "    mean_interface_electrolyte = spdiagm(N-1,N,0=>left_weight,1=>right_weight)\n",
    "    # The mean electrolyte matrix is a sparse matrix, when multiplied by the electrolyte concentration vector, it will return the average of the electrolyte concentration vector\n",
    "    #This can be used to calculate the average bruggman and porosity at interfaces.\n",
    "\n",
    "    #Now lets calculate the divergence matrix. In cartician coordinates, divergence is essentially the gradient of flux at ineterfaces. Ideally, we will have N+1 interfaces, and divergence \n",
    "    # matrix will be a (N+1)xN matrix. However, we have zero flux at both boundaries , so we will have N-1 interfaces to consider and the matrix now is a Nx(N-1) matrix.\n",
    "    left = [1/Δx_n.*ones(Nn-1); 1/Δx_s.*ones(Ns); 1/Δx_p.*ones(Np)]\n",
    "    right = [1/Δx_n.*ones(Nn); 1/Δx_s.*ones(Ns); 1/Δx_p.*ones(Np-1)]\n",
    "    div_interface_electrolyte = spdiagm(N,N-1,0=>right,-1=>-left)\n",
    "    # The div electrolyte matrix is a sparse matrix, when multiplied by the electrolyte flux vector, it will return the gradient of the electrolyte flux vector\n",
    "\n",
    "    #Now lets calculate the source term at each CV\n",
    "    Source_n = (1-t⁺)/(F*A*Ln)\n",
    "    Source_s = 0\n",
    "    Source_p = -(1-t⁺)/(F*A*Lp)\n",
    "    source = [Source_n*ones(Nn);Source_s*ones(Ns);Source_p*ones(Np)]\n",
    "\n",
    "\n",
    "    if save_matrices\n",
    "        open(\"Eelectrolyte_matrices.txt\", \"w\") do f\n",
    "            write(f, \"Mesh_neg_sep_pos: $([Nn,Ns,Np])\\n\")\n",
    "            write(f, \"grad_interface_electrolyte = $grad_interface_electrolyte\\n\")\n",
    "            write(f, \"div_interface_electrolyte = $div_interface_electrolyte\\n\")\n",
    "            write(f, \"mean_interface_electrolyte = $mean_interface_electrolyte\\n\")\n",
    "            write(f, \"source = $source\\n\")\n",
    "\n",
    "            write(f,\"grad_ce = grad_interface_electrolyte * ce_vec \\n\")\n",
    "            write(f,\"mean_brug=mean_interface_electrolyte*brugg_vec\\n\")\n",
    "            write(f,\"flux_at_interfaces= D.* brugg_vec .* grad_ce \\n\")\n",
    "            write(f,\"dc_dt = div_interface_electrolyte * ce_vec (just because of diffusion) \\n\")\n",
    "            write(f,\"dc_dt=dc_dt .+ source*I \\n\")\n",
    "\n",
    "        end \n",
    "    end\n",
    "\n",
    "    return grad_interface_electrolyte,div_interface_electrolyte,mean_interface_electrolyte,source\n",
    "\n",
    "end \n",
    "\n",
    "electrolyte_matrices(Nn,Ns,Np,Ln,Ls,Lp; save_matrices=true)"
   ]
  },
  {
   "cell_type": "markdown",
   "metadata": {},
   "source": [
    "Now lets test it out for various mesh sizes and see how the gradient changes.\n"
   ]
  },
  {
   "cell_type": "code",
   "execution_count": 138,
   "metadata": {},
   "outputs": [
    {
     "name": "stdout",
     "output_type": "stream",
     "text": [
      "  0.450191 seconds (1.12 M allocations: 56.810 MiB, 99.11% compilation time)"
     ]
    },
    {
     "name": "stdout",
     "output_type": "stream",
     "text": [
      "\n",
      "  0.005525 seconds (13.82 k allocations: 1.931 MiB)\n"
     ]
    },
    {
     "name": "stdout",
     "output_type": "stream",
     "text": [
      "  0.087947 seconds (42.26 k allocations: 14.821 MiB, 55.48% gc time)\n"
     ]
    },
    {
     "data": {
      "text/plain": [
       "\"m:\\\\Calendar ageing GB\\\\codes\\\\Electrolyte_concentration.png\""
      ]
     },
     "metadata": {},
     "output_type": "display_data"
    }
   ],
   "source": [
    "Test_mesh_sizes=[(6,3,6),(9,3,9),(30,15,30)]\n",
    "time_to_plot=100.0\n",
    "duration=1800.0\n",
    "plots=plot()\n",
    "\n",
    "ϵ_n=0.25\n",
    "ϵ_s=0.47\n",
    "ϵ_p=0.335\n",
    "\n",
    "\n",
    "for (Nn,Ns,Np) in Test_mesh_sizes\n",
    "\n",
    "    N=Nn+Ns+Np\n",
    "    grad_interface_electrolyte,div_interface_electrolyte,mean_interface_electrolyte,source=electrolyte_matrices(Nn,Ns,Np,Ln,Ls,Lp;save_matrices=false)\n",
    "    ϵ=[ϵ_n*ones(Nn);ϵ_s*ones(Ns);ϵ_p*ones(Np)]\n",
    "    Brugg=ϵ.^1.5\n",
    "\n",
    "    function ODE_fctn!(dc,c,p,t)\n",
    "        \n",
    "        grad_ce=grad_interface_electrolyte*c\n",
    "        mean_brug=mean_interface_electrolyte*Brugg\n",
    "        D_e_node = 8.794e-11 .* (c ./ 1000) .^ 2 .- 3.972e-10 .* (c ./ 1000) .+ 4.862e-10\n",
    "        D_e_node = mean_interface_electrolyte * D_e_node \n",
    "        flux_at_interfaces= D_e_node.* mean_brug .* grad_ce\n",
    "        dc_dt=div_interface_electrolyte*flux_at_interfaces\n",
    "        dc_dt=dc_dt.+source*I\n",
    "        dc .= dc_dt./ϵ\n",
    "    end\n",
    "\n",
    "    c0=1e3*ones(N)\n",
    "    tspan=(0.0,duration)\n",
    "    prob=ODEProblem(ODE_fctn!,c0,tspan)\n",
    "    \n",
    "    \n",
    "    \n",
    "    solution=sol(time_to_plot)\n",
    "    x_points_n=[(i-0.5)*Ln/Nn for i in 1:Nn]\n",
    "    x_points_s=[Ln+(i-0.5)*Ls/Ns for i in 1:Ns]\n",
    "    x_points_p=[Ln+Ls+(i-0.5)*Lp/Np for i in 1:Np]\n",
    "    x_points=[0;x_points_n;x_points_s;x_points_p;Ln+Ls+Lp]\n",
    "\n",
    "    y_point_0 = solution[1] - 0.25*(solution[2]-solution[1]) #1.5*solution[1]-0.5*solution[2]\n",
    "    \n",
    "    y_point_end = solution[end] + 0.25*(solution[end]-solution[end-1]) #\n",
    "    #1.5*solution[end]-0.5*solution[end-1]\n",
    "    y_points = [y_point_0;solution;y_point_end]\n",
    "\n",
    "    plot!(plots,1e6.*x_points,y_points,label=\"Nn=$Nn, Ns=$Ns, Np=$Np\")\n",
    "\n",
    "\n",
    "end \n",
    "\n",
    "plot!(plots,xlabel=\"x (μm)\",ylabel=\"Electrolyte concentration (mol/m^3)\",title=\"FVM implimentation of 1D electrolyte diffusion\",legend=:topright)\n",
    "plot!(plots,dpi=300,lw=2,markersize=2,framestyle=:box)\n",
    "annotate!(plots, 100, 1000.0, text(\"Time = $time_to_plot s\", 10, :left))\n",
    "annotate!(plots, 100, 1100.0, text(\"Current = $I A\", 10, :left))\n",
    "savefig(plots,\"Electrolyte_concentration.png\")\n"
   ]
  }
 ],
 "metadata": {
  "kernelspec": {
   "display_name": "Julia 1.8.2",
   "language": "julia",
   "name": "julia-1.8"
  },
  "language_info": {
   "file_extension": ".jl",
   "mimetype": "application/julia",
   "name": "julia",
   "version": "1.8.2"
  }
 },
 "nbformat": 4,
 "nbformat_minor": 2
}
